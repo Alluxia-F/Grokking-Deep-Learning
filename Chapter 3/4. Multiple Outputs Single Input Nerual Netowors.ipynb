{
 "cells": [
  {
   "cell_type": "code",
   "execution_count": 10,
   "metadata": {
    "collapsed": true
   },
   "outputs": [],
   "source": [
    "# Predict with multiple outputs but just one input\n",
    "\n",
    "weights=[0.3,0.2,0.9]\n",
    "wlrec=[0.65,0.8,0.8,0.9]\n",
    "inputs=wlrec[0]"
   ]
  },
  {
   "cell_type": "code",
   "execution_count": 11,
   "metadata": {
    "collapsed": false
   },
   "outputs": [],
   "source": [
    "# Define the functions\n",
    "def ele_mu(inputs,weights):\n",
    "    output=[]\n",
    "    \n",
    "    for i,v in enumerate(weights):\n",
    "        output.append(inputs*v)\n",
    "    return output\n",
    "\n",
    "def neural_network(inputs,weights):\n",
    "    pred=ele_mu(inputs,weights)\n",
    "    return pred"
   ]
  },
  {
   "cell_type": "code",
   "execution_count": 12,
   "metadata": {
    "collapsed": false
   },
   "outputs": [
    {
     "name": "stdout",
     "output_type": "stream",
     "text": [
      "[0.195, 0.13, 0.5850000000000001]\n"
     ]
    }
   ],
   "source": [
    "# Run the function and return prediction\n",
    "\n",
    "print neural_network(inputs,weights)"
   ]
  },
  {
   "cell_type": "code",
   "execution_count": null,
   "metadata": {
    "collapsed": true
   },
   "outputs": [],
   "source": []
  }
 ],
 "metadata": {
  "kernelspec": {
   "display_name": "Python [conda root]",
   "language": "python",
   "name": "conda-root-py"
  },
  "language_info": {
   "codemirror_mode": {
    "name": "ipython",
    "version": 2
   },
   "file_extension": ".py",
   "mimetype": "text/x-python",
   "name": "python",
   "nbconvert_exporter": "python",
   "pygments_lexer": "ipython2",
   "version": "2.7.13"
  }
 },
 "nbformat": 4,
 "nbformat_minor": 2
}
