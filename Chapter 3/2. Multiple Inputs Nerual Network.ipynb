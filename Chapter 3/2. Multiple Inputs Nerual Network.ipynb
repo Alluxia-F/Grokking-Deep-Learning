{
 "cells": [
  {
   "cell_type": "code",
   "execution_count": 6,
   "metadata": {
    "collapsed": true
   },
   "outputs": [],
   "source": [
    "# Making a prediction with multiple inputs\n",
    "\n",
    "def w_sum(inputs,weights):\n",
    "    sum=0\n",
    "    for i,v in enumerate(inputs):\n",
    "        sum+=inputs[i]*weights[i]\n",
    "    return sum\n",
    "\n",
    "\n",
    "def nerual_network(inputs,weights):\n",
    "    pred=w_sum(inputs,weights)\n",
    "    return pred\n"
   ]
  },
  {
   "cell_type": "code",
   "execution_count": 7,
   "metadata": {
    "collapsed": false
   },
   "outputs": [
    {
     "name": "stdout",
     "output_type": "stream",
     "text": [
      "0.98\n"
     ]
    }
   ],
   "source": [
    "# Run the function and generate prediction\n",
    "\n",
    "weights=[0.1,0.2,0]\n",
    "\n",
    "toes=[8.5,9.5,9.9,9.0]\n",
    "wlrec=[0.65,0.8,0.8,0.9]\n",
    "nfans=[1.2,1.3,0.5,1.0]\n",
    "\n",
    "inputs=[toes[0],wlrec[0],nfans[0]]\n",
    "\n",
    "pred=nerual_network(inputs,weights)\n",
    "print pred"
   ]
  },
  {
   "cell_type": "code",
   "execution_count": 9,
   "metadata": {
    "collapsed": false
   },
   "outputs": [
    {
     "name": "stdout",
     "output_type": "stream",
     "text": [
      "0.98\n"
     ]
    }
   ],
   "source": [
    "# Numpy Code\n",
    "import numpy as np\n",
    "\n",
    "def nerual_network_numpy(inputs,weights):\n",
    "    pred=inputs.dot(weights)\n",
    "    return pred\n",
    "\n",
    "inputs_numpy=np.array(inputs)\n",
    "weights_numpy=np.array(weights)\n",
    "\n",
    "print nerual_network_numpy(inputs_numpy,weights_numpy)"
   ]
  },
  {
   "cell_type": "code",
   "execution_count": null,
   "metadata": {
    "collapsed": true
   },
   "outputs": [],
   "source": []
  }
 ],
 "metadata": {
  "kernelspec": {
   "display_name": "Python [conda root]",
   "language": "python",
   "name": "conda-root-py"
  },
  "language_info": {
   "codemirror_mode": {
    "name": "ipython",
    "version": 2
   },
   "file_extension": ".py",
   "mimetype": "text/x-python",
   "name": "python",
   "nbconvert_exporter": "python",
   "pygments_lexer": "ipython2",
   "version": "2.7.13"
  }
 },
 "nbformat": 4,
 "nbformat_minor": 2
}
