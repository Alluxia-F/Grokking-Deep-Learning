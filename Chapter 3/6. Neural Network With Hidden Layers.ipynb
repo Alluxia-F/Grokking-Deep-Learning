{
 "cells": [
  {
   "cell_type": "code",
   "execution_count": 7,
   "metadata": {},
   "outputs": [],
   "source": [
    "# Nerual Network With Hidden Layers\n",
    "# Python Code"
   ]
  },
  {
   "cell_type": "code",
   "execution_count": 10,
   "metadata": {},
   "outputs": [
    {
     "name": "stdout",
     "output_type": "stream",
     "text": [
      "[[[0.1, 0.2, -0.1], [-0.1, 0.1, 0.9], [0.1, 0.4, 0.1]], [[0.3, 1.1, -0.3], [0.1, 0.2, 0.0], [0.0, 1.3, 0.1]]]\n"
     ]
    }
   ],
   "source": [
    "# Input data\n",
    "\n",
    "ih_wgt=[[0.1,0.2,-0.1],\n",
    "        [-0.1,0.1,0.9],\n",
    "        [0.1,0.4,0.1]]\n",
    "\n",
    "hg_wgt=[[0.3,1.1,-0.3],\n",
    "        [0.1,0.2,0.0],\n",
    "        [0.0,1.3,0.1]]\n",
    "\n",
    "toes=[8.5,9.5,9.9,9.0]\n",
    "wlrec=[0.65,0.8,0.8,0.9]\n",
    "nfans=[1.2,1.3,0.5,1.0]\n",
    "\n",
    "inputs=[toes[0],wlrec[0],nfans[0]]\n",
    "weights=[ih_wgt,hg_wgt]\n",
    "\n",
    "print weights"
   ]
  },
  {
   "cell_type": "code",
   "execution_count": 19,
   "metadata": {},
   "outputs": [],
   "source": [
    "# Define multiple inputs and multiple outputs function\n",
    "\n",
    "def w_sum(inputs,weights):\n",
    "    sum=0\n",
    "    for i,v in enumerate(inputs):\n",
    "        sum+=inputs[i]*weights[i]\n",
    "    return sum\n",
    "\n",
    "def vect_mat_mul(inputs,weights):\n",
    "    output=[]\n",
    "    for i,v in enumerate(weights):\n",
    "        output.append(w_sum(inputs,weights[i]))\n",
    "    return output\n",
    "\n",
    "def nerual_networks(inputs,weights):\n",
    "    hid=vect_mat_mul(inputs,weights[0])\n",
    "    pred=vect_mat_mul(hid,weights[1])\n",
    "    return pred\n"
   ]
  },
  {
   "cell_type": "code",
   "execution_count": 20,
   "metadata": {},
   "outputs": [
    {
     "name": "stdout",
     "output_type": "stream",
     "text": [
      "[0.21350000000000002, 0.14500000000000002, 0.5065]\n"
     ]
    }
   ],
   "source": [
    "# Run the nerual networks and generate prediction\n",
    "pred=nerual_networks(inputs,weights)\n",
    "print pred"
   ]
  },
  {
   "cell_type": "code",
   "execution_count": 28,
   "metadata": {},
   "outputs": [
    {
     "name": "stdout",
     "output_type": "stream",
     "text": [
      "[ 0.2135  0.145   0.5065]\n"
     ]
    }
   ],
   "source": [
    "# Nerual Network With Hidden Layers\n",
    "# Numpy Code\n",
    "\n",
    "ih_wgt=np.array(ih_wgt).T\n",
    "\n",
    "hp_wgt=np.array(hg_wgt).T\n",
    "\n",
    "inputs=np.array([toes[0],wlrec[0],nfans[0]])\n",
    "\n",
    "weights=[ih_wgt,hp_wgt]\n",
    "\n",
    "def nerual_networks(inputs,weights):\n",
    "    hid=np.dot(inputs,weights[0])\n",
    "    pred=np.dot(hid,weights[1])\n",
    "    return pred\n",
    "\n",
    "# Run the nerual networks and generate prediction\n",
    "\n",
    "pred=nerual_networks(inputs,weights)\n",
    "print pred\n",
    "\n"
   ]
  }
 ],
 "metadata": {
  "kernelspec": {
   "display_name": "Python [conda root]",
   "language": "python",
   "name": "conda-root-py"
  },
  "language_info": {
   "codemirror_mode": {
    "name": "ipython",
    "version": 2
   },
   "file_extension": ".py",
   "mimetype": "text/x-python",
   "name": "python",
   "nbconvert_exporter": "python",
   "pygments_lexer": "ipython2",
   "version": "2.7.13"
  }
 },
 "nbformat": 4,
 "nbformat_minor": 2
}
