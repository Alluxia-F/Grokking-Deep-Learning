{
 "cells": [
  {
   "cell_type": "code",
   "execution_count": 12,
   "metadata": {
    "collapsed": true
   },
   "outputs": [],
   "source": [
    "vec_a=[1,2,3]\n",
    "vec_b=[7,8,9]"
   ]
  },
  {
   "cell_type": "code",
   "execution_count": 13,
   "metadata": {
    "collapsed": false
   },
   "outputs": [
    {
     "name": "stdout",
     "output_type": "stream",
     "text": [
      "[7, 16, 27]\n"
     ]
    }
   ],
   "source": [
    "# Vector is nothing other than a list of numbers\n",
    "# Inputs is a vector\n",
    "\n",
    "# 1. Element wise multiplication\n",
    "\n",
    "def elementwise_multiplication(vec_a,vec_b):\n",
    "    multiplication=[]\n",
    "    for i,v in enumerate(vec_a):\n",
    "        multiplication.append(vec_a[i]*vec_b[i])\n",
    "    return multiplication\n",
    "\n",
    "# Run the examples\n",
    "print elementwise_multiplication(vec_a,vec_b)\n",
    "    \n"
   ]
  },
  {
   "cell_type": "code",
   "execution_count": 14,
   "metadata": {
    "collapsed": false
   },
   "outputs": [
    {
     "name": "stdout",
     "output_type": "stream",
     "text": [
      "24\n"
     ]
    }
   ],
   "source": [
    "# 2. Sum the elements within a vector\n",
    "\n",
    "def vec_sum(vec_a):\n",
    "    sum=0\n",
    "    for i,v in enumerate(vec_a):\n",
    "        sum+=v\n",
    "    return sum\n",
    "\n",
    "# Rum an example\n",
    "print vec_sum(vec_b)\n"
   ]
  },
  {
   "cell_type": "code",
   "execution_count": 15,
   "metadata": {
    "collapsed": false
   },
   "outputs": [
    {
     "name": "stdout",
     "output_type": "stream",
     "text": [
      "[8, 10, 12]\n"
     ]
    }
   ],
   "source": [
    "#3. Element wise addition\n",
    "\n",
    "def elementwise_addition(vec_a,vec_b):\n",
    "    addition=[]\n",
    "    for i,v in enumerate(vec_a):\n",
    "        addition.append(vec_a[i]+vec_b[i])\n",
    "    return addition\n",
    "\n",
    "# Run the function and return the elementwise addition\n",
    "print elementwise_addition(vec_a,vec_b)\n",
    "        "
   ]
  },
  {
   "cell_type": "code",
   "execution_count": 18,
   "metadata": {
    "collapsed": false
   },
   "outputs": [
    {
     "name": "stdout",
     "output_type": "stream",
     "text": [
      "8\n"
     ]
    }
   ],
   "source": [
    "# Average the elements of a vector\n",
    "\n",
    "def vector_average(vec_a):\n",
    "    average=vec_sum(vec_a)/len(vec_a)\n",
    "    return average\n",
    "\n",
    "print vector_average(vec_b)"
   ]
  },
  {
   "cell_type": "code",
   "execution_count": null,
   "metadata": {
    "collapsed": true
   },
   "outputs": [],
   "source": []
  }
 ],
 "metadata": {
  "kernelspec": {
   "display_name": "Python [conda root]",
   "language": "python",
   "name": "conda-root-py"
  },
  "language_info": {
   "codemirror_mode": {
    "name": "ipython",
    "version": 2
   },
   "file_extension": ".py",
   "mimetype": "text/x-python",
   "name": "python",
   "nbconvert_exporter": "python",
   "pygments_lexer": "ipython2",
   "version": "2.7.13"
  }
 },
 "nbformat": 4,
 "nbformat_minor": 2
}
