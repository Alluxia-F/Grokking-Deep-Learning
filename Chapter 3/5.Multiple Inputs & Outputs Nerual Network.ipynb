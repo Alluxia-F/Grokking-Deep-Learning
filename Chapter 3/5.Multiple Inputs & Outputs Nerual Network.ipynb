{
 "cells": [
  {
   "cell_type": "code",
   "execution_count": 77,
   "metadata": {
    "collapsed": false
   },
   "outputs": [
    {
     "name": "stdout",
     "output_type": "stream",
     "text": [
      "[8.5, 0.65, 1.2]\n"
     ]
    }
   ],
   "source": [
    "# Multiple Inputs & Outputs Nerual Network\n",
    "\n",
    "weights=[[0.1,0.1,-0.3],\n",
    "        [0.1,0.2,0.0],\n",
    "        [0.0,1.3,0.1]]\n",
    "\n",
    "toes=[8.5,9.5,9.9,9.0]\n",
    "wlrec=[0.65,0.8,0.8,0.9]\n",
    "nfans=[1.2,1.3,0.5,1.0]\n",
    "\n",
    "inputs=[toes[0],wlrec[0],nfans[0]]\n",
    "print inputs\n"
   ]
  },
  {
   "cell_type": "code",
   "execution_count": 78,
   "metadata": {
    "collapsed": false
   },
   "outputs": [],
   "source": [
    "def w_sum(inputs,weights):\n",
    "    sum=0\n",
    "    for i,v in enumerate(inputs):\n",
    "        sum+=inputs[i]*weights[i]\n",
    "    return sum\n",
    "\n",
    "\n",
    "def vect_mat_mul(inputs,weights):\n",
    "    assert(len(inputs)==len(weights))\n",
    "    output=[]\n",
    "    for i,v in enumerate(weights):\n",
    "        output.append(w_sum(inputs,weights[i]))\n",
    "    return output    \n",
    "\n",
    "def nerual_network(inputs,weights):\n",
    "    pred=vect_mat_mul(inputs,weights)\n",
    "    return pred\n"
   ]
  },
  {
   "cell_type": "code",
   "execution_count": 80,
   "metadata": {
    "collapsed": false
   },
   "outputs": [
    {
     "name": "stdout",
     "output_type": "stream",
     "text": [
      "[0.555, 0.9800000000000001, 0.9650000000000001]\n"
     ]
    }
   ],
   "source": [
    "# Run the function and return the prediction\n",
    "\n",
    "pred=nerual_network(inputs,weights)\n",
    "print pred\n"
   ]
  },
  {
   "cell_type": "code",
   "execution_count": null,
   "metadata": {
    "collapsed": true
   },
   "outputs": [],
   "source": []
  }
 ],
 "metadata": {
  "kernelspec": {
   "display_name": "Python [conda root]",
   "language": "python",
   "name": "conda-root-py"
  },
  "language_info": {
   "codemirror_mode": {
    "name": "ipython",
    "version": 2
   },
   "file_extension": ".py",
   "mimetype": "text/x-python",
   "name": "python",
   "nbconvert_exporter": "python",
   "pygments_lexer": "ipython2",
   "version": "2.7.13"
  }
 },
 "nbformat": 4,
 "nbformat_minor": 2
}
