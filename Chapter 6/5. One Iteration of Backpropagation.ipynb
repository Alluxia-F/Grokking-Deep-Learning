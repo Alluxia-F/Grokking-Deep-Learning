{
 "cells": [
  {
   "cell_type": "code",
   "execution_count": 73,
   "metadata": {
    "collapsed": true
   },
   "outputs": [],
   "source": [
    "# Initialize the network's weights and data\n",
    "\n",
    "import numpy as np\n",
    "np.random.seed(1)\n",
    "\n",
    "def relu(x):\n",
    "    return (x>0) *x\n",
    "\n",
    "def relu2deriv(output):\n",
    "    return output>0\n"
   ]
  },
  {
   "cell_type": "code",
   "execution_count": 74,
   "metadata": {},
   "outputs": [
    {
     "name": "stdout",
     "output_type": "stream",
     "text": [
      "[[1]\n",
      " [1]\n",
      " [0]\n",
      " [0]]\n",
      "[[-0.16595599  0.44064899 -0.99977125]\n",
      " [-0.39533485 -0.70648822 -0.81532281]\n",
      " [-0.62747958 -0.30887855 -0.20646505]]\n",
      "[[ 0.07763347]\n",
      " [-0.16161097]\n",
      " [ 0.370439  ]]\n"
     ]
    }
   ],
   "source": [
    "lights=np.array([[1,0,1],\n",
    "                [0,1,1],\n",
    "                [0,0,1],\n",
    "                [1,1,1]])\n",
    "walk_stop=np.array([[1,1,0,0]]).T\n",
    "print walk_stop\n",
    "alpha=0.2\n",
    "hidden_size=3\n",
    "weight_0_1=2*np.random.random((3,hidden_size))-1\n",
    "print weight_0_1\n",
    "weight_1_2=2*np.random.random((hidden_size,1))-1\n",
    "print weight_1_2"
   ]
  },
  {
   "cell_type": "code",
   "execution_count": 75,
   "metadata": {},
   "outputs": [
    {
     "name": "stdout",
     "output_type": "stream",
     "text": [
      "[[1 0 1]]\n",
      "[[-0.79343557  0.13177044 -1.2062363 ]]\n",
      "[[-0.          0.13177044 -0.        ]]\n",
      "[[-0.02129555]]\n",
      "[[ 1.0430446]]\n",
      "[[-1.02129555]]\n"
     ]
    }
   ],
   "source": [
    "# Predict & compare: make a prediction, calculate output error and delta\n",
    "\n",
    "layer_0=lights[0:1]\n",
    "print layer_0\n",
    "layer_1=np.dot(layer_0,weight_0_1)\n",
    "print layer_1\n",
    "layer_1=relu(layer_1)\n",
    "print layer_1\n",
    "\n",
    "layer_2=np.dot(layer_1,weight_1_2)\n",
    "print layer_2\n",
    "\n",
    "error=(layer_2-walk_stop[0:1])**2\n",
    "print error\n",
    "\n",
    "layer_2_delta=(layer_2-walk_stop[0:1])\n",
    "print layer_2_delta"
   ]
  },
  {
   "cell_type": "code",
   "execution_count": 76,
   "metadata": {},
   "outputs": [
    {
     "name": "stdout",
     "output_type": "stream",
     "text": [
      "(1, 1)\n",
      "(3, 1)\n"
     ]
    }
   ],
   "source": [
    "print layer_2.shape\n",
    "print weight_1_2.shape"
   ]
  },
  {
   "cell_type": "code",
   "execution_count": 77,
   "metadata": {},
   "outputs": [
    {
     "name": "stdout",
     "output_type": "stream",
     "text": [
      "[[False  True False]]\n"
     ]
    }
   ],
   "source": [
    "layer_1_delta=layer_2.dot(weight_1_2.T)\n",
    "layer_1_delta=relu2deriv(layer_1)\n",
    "print layer_1_delta"
   ]
  },
  {
   "cell_type": "code",
   "execution_count": 82,
   "metadata": {},
   "outputs": [
    {
     "name": "stdout",
     "output_type": "stream",
     "text": [
      "(1, 3)\n",
      "(1, 1)\n",
      "[[ 0.        ]\n",
      " [-0.13457656]\n",
      " [ 0.        ]]\n",
      "[[0 1 0]\n",
      " [0 0 0]\n",
      " [0 1 0]]\n",
      "[[ 0.07763347]\n",
      " [-0.10778035]\n",
      " [ 0.370439  ]]\n",
      "[[-0.16595599  0.04064899 -0.99977125]\n",
      " [-0.39533485 -0.70648822 -0.81532281]\n",
      " [-0.62747958 -0.70887855 -0.20646505]]\n"
     ]
    }
   ],
   "source": [
    "# Learn: Generate weight deltas and update weights\n",
    "print layer_1.shape\n",
    "print layer_2_delta.shape\n",
    "\n",
    "weight_delta_1_2=layer_1.T.dot(layer_2_delta)\n",
    "print weight_delta_1_2\n",
    "\n",
    "weight_delta_0_1=layer_0.T.dot(layer_1_delta)\n",
    "print weight_delta_0_1\n",
    "\n",
    "weight_1_2-=alpha*weight_delta_1_2\n",
    "print weight_1_2\n",
    "\n",
    "weight_0_1-=alpha*weight_delta_0_1\n",
    "print weight_0_1"
   ]
  },
  {
   "cell_type": "code",
   "execution_count": null,
   "metadata": {
    "collapsed": true
   },
   "outputs": [],
   "source": []
  }
 ],
 "metadata": {
  "kernelspec": {
   "display_name": "Python [conda root]",
   "language": "python",
   "name": "conda-root-py"
  },
  "language_info": {
   "codemirror_mode": {
    "name": "ipython",
    "version": 2
   },
   "file_extension": ".py",
   "mimetype": "text/x-python",
   "name": "python",
   "nbconvert_exporter": "python",
   "pygments_lexer": "ipython2",
   "version": "2.7.13"
  }
 },
 "nbformat": 4,
 "nbformat_minor": 2
}
