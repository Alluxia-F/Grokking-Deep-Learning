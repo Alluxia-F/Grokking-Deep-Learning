{
 "cells": [
  {
   "cell_type": "code",
   "execution_count": 22,
   "metadata": {},
   "outputs": [
    {
     "data": {
      "text/plain": [
       "False"
      ]
     },
     "execution_count": 22,
     "metadata": {},
     "output_type": "execute_result"
    }
   ],
   "source": [
    "def relu(x):\n",
    "    return (x>0) *x\n",
    "relu(-3)\n",
    "\n",
    "def relu2deriv(output):\n",
    "    return output>0\n",
    "relu2deriv(-1)"
   ]
  },
  {
   "cell_type": "code",
   "execution_count": 11,
   "metadata": {},
   "outputs": [
    {
     "name": "stdout",
     "output_type": "stream",
     "text": [
      "(4, 1)\n"
     ]
    }
   ],
   "source": [
    "import numpy as np\n",
    "np.random.seed(1)\n",
    "\n",
    "alpha=0.2\n",
    "hidden_size=4\n",
    "streetlights=np.array([[1,0,1],\n",
    "                      [0,1,1],\n",
    "                      [0,0,1],\n",
    "                      [1,1,1]])\n",
    "\n",
    "walks_vs_stop=np.array([[1,1,0,0]]).T\n",
    "\n",
    "print walks_vs_stop.shape\n",
    "\n"
   ]
  },
  {
   "cell_type": "code",
   "execution_count": 13,
   "metadata": {},
   "outputs": [
    {
     "name": "stdout",
     "output_type": "stream",
     "text": [
      "(3, 4)\n",
      "(4, 1)\n"
     ]
    }
   ],
   "source": [
    "weights_0_1=2*np.random.random((3,hidden_size))-1\n",
    "weights_1_2=2*np.random.random((hidden_size,1))-1\n",
    "print weights_0_1.shape\n",
    "print weights_1_2.shape"
   ]
  },
  {
   "cell_type": "code",
   "execution_count": 20,
   "metadata": {},
   "outputs": [
    {
     "name": "stdout",
     "output_type": "stream",
     "text": [
      "(3,)\n",
      "[ 0.58738791  0.90659298 -1.5491377  -1.52568746]\n",
      "[ 0.58738791  0.90659298 -0.         -0.        ]\n",
      "[ 0.29776744]\n"
     ]
    }
   ],
   "source": [
    "layer_0=streetlights[0]\n",
    "print layer_0.shape\n",
    "layer_1=layer_0.dot(weights_0_1)\n",
    "print layer_1\n",
    "layer_1=relu(layer_1)\n",
    "print layer_1\n",
    "layer_2=layer_1.dot(weights_1_2)\n",
    "print layer_2\n"
   ]
  },
  {
   "cell_type": "code",
   "execution_count": null,
   "metadata": {
    "collapsed": true
   },
   "outputs": [],
   "source": []
  }
 ],
 "metadata": {
  "kernelspec": {
   "display_name": "Python [conda root]",
   "language": "python",
   "name": "conda-root-py"
  },
  "language_info": {
   "codemirror_mode": {
    "name": "ipython",
    "version": 2
   },
   "file_extension": ".py",
   "mimetype": "text/x-python",
   "name": "python",
   "nbconvert_exporter": "python",
   "pygments_lexer": "ipython2",
   "version": "2.7.13"
  }
 },
 "nbformat": 4,
 "nbformat_minor": 2
}
