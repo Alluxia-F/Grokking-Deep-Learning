{
 "cells": [
  {
   "cell_type": "code",
   "execution_count": 65,
   "metadata": {},
   "outputs": [
    {
     "data": {
      "text/plain": [
       "False"
      ]
     },
     "execution_count": 65,
     "metadata": {},
     "output_type": "execute_result"
    }
   ],
   "source": [
    "def relu(x):\n",
    "    return (x>0) *x\n",
    "relu(-3)\n",
    "\n",
    "def relu2deriv(output):\n",
    "    return output>0\n",
    "relu2deriv(-1)"
   ]
  },
  {
   "cell_type": "code",
   "execution_count": 66,
   "metadata": {},
   "outputs": [
    {
     "name": "stdout",
     "output_type": "stream",
     "text": [
      "(4, 1)\n"
     ]
    }
   ],
   "source": [
    "import numpy as np\n",
    "np.random.seed(1)\n",
    "\n",
    "alpha=0.2\n",
    "hidden_size=4\n",
    "streetlights=np.array([[1,0,1],\n",
    "                      [0,1,1],\n",
    "                      [0,0,1],\n",
    "                      [1,1,1]])\n",
    "\n",
    "walks_vs_stop=np.array([[1,1,0,0]]).T\n",
    "\n",
    "print walks_vs_stop.shape\n",
    "\n"
   ]
  },
  {
   "cell_type": "code",
   "execution_count": 67,
   "metadata": {},
   "outputs": [
    {
     "name": "stdout",
     "output_type": "stream",
     "text": [
      "(3, 4)\n",
      "[[-0.5910955 ]\n",
      " [ 0.75623487]\n",
      " [-0.94522481]\n",
      " [ 0.34093502]]\n"
     ]
    }
   ],
   "source": [
    "weights_0_1=2*np.random.random((3,hidden_size))-1\n",
    "weights_1_2=2*np.random.random((hidden_size,1))-1\n",
    "print weights_0_1.shape\n",
    "print weights_1_2"
   ]
  },
  {
   "cell_type": "code",
   "execution_count": 68,
   "metadata": {},
   "outputs": [
    {
     "name": "stdout",
     "output_type": "stream",
     "text": [
      "Error: 0.634231159844\n",
      "Error: 0.358384076763\n",
      "Error: 0.0830183113303\n",
      "Error: 0.0064670549571\n",
      "Error: 0.000329266900075\n",
      "Error: 1.50556226651e-05\n"
     ]
    }
   ],
   "source": [
    "for iteration in xrange(60):\n",
    "    layer_2_error=0\n",
    "    for i in xrange(len(streetlights)):\n",
    "        layer_0=streetlights[i:i+1]\n",
    "        layer_1=relu(np.dot(layer_0,weights_0_1))\n",
    "        layer_2=np.dot(layer_1,weights_1_2)\n",
    "        \n",
    "        layer_2_error+=np.sum((layer_2-walks_vs_stop[i:i+1])**2)\n",
    "        \n",
    "        layer_2_delta=(walks_vs_stop[i:i+1]-layer_2)\n",
    "        \n",
    "        layer_1_delta=layer_2_delta.dot(weights_1_2.T)*relu2deriv(layer_1)\n",
    "        \n",
    "        weights_1_2+=alpha*layer_1.T.dot(layer_2_delta)\n",
    "        weights_0_1+=alpha*layer_0.T.dot(layer_1_delta)\n",
    "        \n",
    "    if(iteration % 10 ==9):   \n",
    "        print 'Error: '+str(layer_2_error)\n",
    "       \n",
    "        "
   ]
  },
  {
   "cell_type": "code",
   "execution_count": null,
   "metadata": {},
   "outputs": [],
   "source": []
  },
  {
   "cell_type": "code",
   "execution_count": null,
   "metadata": {
    "collapsed": true
   },
   "outputs": [],
   "source": []
  }
 ],
 "metadata": {
  "kernelspec": {
   "display_name": "Python [conda root]",
   "language": "python",
   "name": "conda-root-py"
  },
  "language_info": {
   "codemirror_mode": {
    "name": "ipython",
    "version": 2
   },
   "file_extension": ".py",
   "mimetype": "text/x-python",
   "name": "python",
   "nbconvert_exporter": "python",
   "pygments_lexer": "ipython2",
   "version": "2.7.13"
  }
 },
 "nbformat": 4,
 "nbformat_minor": 2
}
