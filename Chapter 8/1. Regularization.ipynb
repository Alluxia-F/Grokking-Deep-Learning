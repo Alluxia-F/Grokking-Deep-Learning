{
 "cells": [
  {
   "cell_type": "markdown",
   "metadata": {},
   "source": [
    "1. Early Stopping\n",
    "A subset of methods used to encourage generalization in learned models,oftern by increasing the difficulty for a model to learn the fin-grained details of training data.\n",
    "\n",
    "2. Dropout\n",
    "Dropout makes our big network act like a little one by randomly training little subsections of the network at a time, and little networks don't overfit.\n",
    "\n",
    "Dropput is actually a form of training a bunch of networks and averaging them.\n",
    "\n",
    "While it is very likely for large,unregularized nerual networks to overfit to noise, it is very unlikely for them to overfit to the same noise.\n",
    "\n",
    "Nerual networks,even tough they are randomly generated, still start by learning the biggest, most broad sweeping features before learning much about the noise.\n"
   ]
  }
 ],
 "metadata": {
  "kernelspec": {
   "display_name": "Python [conda root]",
   "language": "python",
   "name": "conda-root-py"
  },
  "language_info": {
   "codemirror_mode": {
    "name": "ipython",
    "version": 2
   },
   "file_extension": ".py",
   "mimetype": "text/x-python",
   "name": "python",
   "nbconvert_exporter": "python",
   "pygments_lexer": "ipython2",
   "version": "2.7.13"
  }
 },
 "nbformat": 4,
 "nbformat_minor": 2
}
