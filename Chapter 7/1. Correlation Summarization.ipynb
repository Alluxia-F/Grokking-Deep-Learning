{
 "cells": [
  {
   "cell_type": "markdown",
   "metadata": {},
   "source": [
    "Nerual networks seek to find direct and indirect correlation bwtween an uninput layer and an output layer,which are determined by the input and output datasets respectively.\n",
    "\n",
    "Any given set of weights optimizes to learn how to correlate its input layer with what the output layer says it should be.\n",
    "\n",
    "What an earlier layers says it should be dtermined by taking what a later layer says it should be and multiplying it by the weights inbetween them. In this way, later layers can tell earlier layers what kind of signal they need to ultimately find correlation with the output. We call this cross communication, backpropagation.\n",
    "\n",
    "Good nerual architectures channel signal so that correlation is easy to discover. Great architectures also filter noise to help prevent overfitting.\n"
   ]
  }
 ],
 "metadata": {
  "kernelspec": {
   "display_name": "Python [conda root]",
   "language": "python",
   "name": "conda-root-py"
  },
  "language_info": {
   "codemirror_mode": {
    "name": "ipython",
    "version": 2
   },
   "file_extension": ".py",
   "mimetype": "text/x-python",
   "name": "python",
   "nbconvert_exporter": "python",
   "pygments_lexer": "ipython2",
   "version": "2.7.13"
  }
 },
 "nbformat": 4,
 "nbformat_minor": 2
}
