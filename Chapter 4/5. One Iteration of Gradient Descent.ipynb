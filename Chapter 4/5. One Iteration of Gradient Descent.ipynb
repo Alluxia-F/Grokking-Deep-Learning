{
 "cells": [
  {
   "cell_type": "code",
   "execution_count": 2,
   "metadata": {},
   "outputs": [],
   "source": [
    "# One iteration of Gradient Descent. Page 58\n",
    "# Step 1: An Empty Network\n",
    "\n",
    "weight=0.1\n",
    "alpha=0.01\n",
    "\n",
    "def nerual_network(inputs,weight):\n",
    "    prediction=inputs*weight\n",
    "    return prediction\n"
   ]
  },
  {
   "cell_type": "code",
   "execution_count": 3,
   "metadata": {},
   "outputs": [
    {
     "name": "stdout",
     "output_type": "stream",
     "text": [
      "0.0225\n"
     ]
    }
   ],
   "source": [
    "# Step 2: Making A Prediction And Evaluating Error\n",
    "number_of_toes=[8.5]\n",
    "win_or_lose_binary=[1]\n",
    "\n",
    "inputs=number_of_toes[0]\n",
    "goal_pred=win_or_lose_binary[0]\n",
    "\n",
    "pred=nerual_network(inputs,weight)\n",
    "error=(pred-goal_pred)**2\n",
    "print error"
   ]
  },
  {
   "cell_type": "code",
   "execution_count": 4,
   "metadata": {},
   "outputs": [
    {
     "name": "stdout",
     "output_type": "stream",
     "text": [
      "-0.15\n"
     ]
    }
   ],
   "source": [
    "# Step 3:Compare: calculate 'node delta' and put it on the output node\n",
    "delta=pred-goal_pred\n",
    "print delta"
   ]
  },
  {
   "cell_type": "markdown",
   "metadata": {},
   "source": [
    "Delta is a measurement of 'how much this node missed'. Thus, since the true prediction was 1.0, and out network's prediction was 0.85, the network was too low by 0.15. Thus, the delta is negative 0.15."
   ]
  },
  {
   "cell_type": "code",
   "execution_count": 6,
   "metadata": {},
   "outputs": [
    {
     "name": "stdout",
     "output_type": "stream",
     "text": [
      "-1.275\n"
     ]
    }
   ],
   "source": [
    "# Step 4:Learn: Calculating 'weight delta' and putting it on the weight\n",
    "\n",
    "weight_delta=inputs*delta\n",
    "print weight_delta"
   ]
  },
  {
   "cell_type": "code",
   "execution_count": 7,
   "metadata": {},
   "outputs": [
    {
     "name": "stdout",
     "output_type": "stream",
     "text": [
      "0.11275\n"
     ]
    }
   ],
   "source": [
    "# Step 5: Learn,Updating the weight\n",
    "weight-=weight_delta*alpha\n",
    "print weight"
   ]
  },
  {
   "cell_type": "code",
   "execution_count": null,
   "metadata": {
    "collapsed": true
   },
   "outputs": [],
   "source": []
  }
 ],
 "metadata": {
  "kernelspec": {
   "display_name": "Python [conda root]",
   "language": "python",
   "name": "conda-root-py"
  },
  "language_info": {
   "codemirror_mode": {
    "name": "ipython",
    "version": 2
   },
   "file_extension": ".py",
   "mimetype": "text/x-python",
   "name": "python",
   "nbconvert_exporter": "python",
   "pygments_lexer": "ipython2",
   "version": "2.7.13"
  }
 },
 "nbformat": 4,
 "nbformat_minor": 2
}
