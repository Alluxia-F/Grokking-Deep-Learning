{
 "cells": [
  {
   "cell_type": "code",
   "execution_count": 10,
   "metadata": {},
   "outputs": [
    {
     "name": "stdout",
     "output_type": "stream",
     "text": [
      "Interation0    weight0.775    Error:0.3025    Prediction:0.25\n",
      "Interation1    weight0.98125    Error:0.17015625    Prediction:0.3875\n",
      "Interation2    weight1.1359375    Error:0.095712890625    Prediction:0.490625\n",
      "Interation3    weight1.251953125    Error:0.0538385009766    Prediction:0.56796875\n",
      "Interation4    weight1.33896484375    Error:0.0302841567993    Prediction:0.6259765625\n",
      "Interation5    weight1.40422363281    Error:0.0170348381996    Prediction:0.669482421875\n",
      "Interation6    weight1.45316772461    Error:0.00958209648728    Prediction:0.702111816406\n",
      "Interation7    weight1.48987579346    Error:0.0053899292741    Prediction:0.726583862305\n",
      "Interation8    weight1.51740684509    Error:0.00303183521668    Prediction:0.744937896729\n",
      "Interation9    weight1.53805513382    Error:0.00170540730938    Prediction:0.758703422546\n",
      "Interation10    weight1.55354135036    Error:0.000959291611528    Prediction:0.76902756691\n",
      "Interation11    weight1.56515601277    Error:0.000539601531484    Prediction:0.776770675182\n",
      "Interation12    weight1.57386700958    Error:0.00030352586146    Prediction:0.782578006387\n",
      "Interation13    weight1.58040025719    Error:0.000170733297071    Prediction:0.78693350479\n",
      "Interation14    weight1.58530019289    Error:9.60374796025e-05    Prediction:0.790200128593\n",
      "Interation15    weight1.58897514467    Error:5.40210822764e-05    Prediction:0.792650096444\n",
      "Interation16    weight1.5917313585    Error:3.03868587805e-05    Prediction:0.794487572333\n",
      "Interation17    weight1.59379851887    Error:1.7092608064e-05    Prediction:0.79586567925\n",
      "Interation18    weight1.59534888916    Error:9.61459203602e-06    Prediction:0.796899259437\n",
      "Interation19    weight1.59651166687    Error:5.40820802026e-06    Prediction:0.797674444578\n",
      "Interation20    weight1.59738375015    Error:3.0421170114e-06    Prediction:0.798255833434\n",
      "Interation21    weight1.59803781261    Error:1.71119081891e-06    Prediction:0.798691875075\n",
      "Interation22    weight1.59852835946    Error:9.62544835637e-07    Prediction:0.799018906306\n",
      "Interation23    weight1.59889626959    Error:5.41431470046e-07    Prediction:0.79926417973\n",
      "Interation24    weight1.5991722022    Error:3.04555201901e-07    Prediction:0.799448134797\n",
      "Interation25    weight1.59937915165    Error:1.71312301069e-07    Prediction:0.799586101098\n",
      "Interation26    weight1.59953436374    Error:9.63631693514e-08    Prediction:0.799689575824\n",
      "Interation27    weight1.5996507728    Error:5.42042827602e-08    Prediction:0.799767181868\n",
      "Interation28    weight1.5997380796    Error:3.04899090526e-08    Prediction:0.799825386401\n",
      "Interation29    weight1.5998035597    Error:1.71505738421e-08    Prediction:0.799869039801\n",
      "Interation30    weight1.59985266978    Error:9.64719778617e-09    Prediction:0.79990177985\n",
      "Interation31    weight1.59988950233    Error:5.42654875471e-09    Prediction:0.799926334888\n",
      "Interation32    weight1.59991712675    Error:3.05243367453e-09    Prediction:0.799944751166\n",
      "Interation33    weight1.59993784506    Error:1.71699394192e-09    Prediction:0.799958563374\n",
      "Interation34    weight1.5999533838    Error:9.65809092329e-10    Prediction:0.799968922531\n",
      "Interation35    weight1.59996503785    Error:5.43267614434e-10    Prediction:0.799976691898\n",
      "Interation36    weight1.59997377839    Error:3.05588033119e-10    Prediction:0.799982518924\n",
      "Interation37    weight1.59998033379    Error:1.71893268629e-10    Prediction:0.799986889193\n",
      "Interation38    weight1.59998525034    Error:9.66899636052e-11    Prediction:0.799990166895\n",
      "Interation39    weight1.59998893776    Error:5.43881045271e-11    Prediction:0.799992625171\n",
      "Interation40    weight1.59999170332    Error:3.05933087965e-11    Prediction:0.799994468878\n",
      "Interation41    weight1.59999377749    Error:1.72087361983e-11    Prediction:0.799995851659\n",
      "Interation42    weight1.59999533312    Error:9.67991411134e-12    Prediction:0.799996888744\n",
      "Interation43    weight1.59999649984    Error:5.44495168789e-12    Prediction:0.799997666558\n",
      "Interation44    weight1.59999737488    Error:3.06278532444e-12    Prediction:0.799998249918\n",
      "Interation45    weight1.59999803116    Error:1.72281674507e-12    Prediction:0.799998687439\n",
      "Interation46    weight1.59999852337    Error:9.69084418992e-13    Prediction:0.799999015579\n",
      "Interation47    weight1.59999889253    Error:5.45109985683e-13    Prediction:0.799999261684\n",
      "Interation48    weight1.59999916939    Error:3.06624366916e-13    Prediction:0.799999446263\n",
      "Interation49    weight1.59999937705    Error:1.7247620639e-13    Prediction:0.799999584697\n"
     ]
    }
   ],
   "source": [
    "weight=0.5\n",
    "goal_pred=0.8\n",
    "inputs=0.5\n",
    "\n",
    "# Train the model\n",
    "for iteration in range(50):\n",
    "    pred=inputs*weight\n",
    "    error=(pred-goal_pred)**2\n",
    "    # Pure error: pred-goal_pred; inputs:scaling,negative reversal and stopping\n",
    "    direction_and_amount=(pred-goal_pred)*inputs\n",
    "    weight-=direction_and_amount\n",
    "    \n",
    "    print 'Interation'+str(iteration)+'    weight'+str(weight)+'    Error:'+str(error)+'    Prediction:'+str(pred)\n",
    "    \n",
    "    "
   ]
  },
  {
   "cell_type": "markdown",
   "metadata": {},
   "source": [
    "What is the direction_and_amount?\n",
    "---It represents how we want to change our weight\n",
    "\n",
    "What is the 'pure error'?\n",
    "--- It is the pred-goal_pred, which indicates 'the raw direction and amount that we missed'. If this is a positive number then we predicted too high and visa versa. If this is a big number then we missed by a big amount.\n",
    "\n",
    "What is 'stopping'?\n",
    "--- This is the first affect on our 'pure error' caused by multiplying it by our input. Imaging plugging in a CD player into your stereo. If you turned the volume all the way up but the CD player was off ... it simly woultn't matter.\n",
    "\n",
    "What is 'negative reversal'?\n",
    "--- This is probably our most difficult and important effect. Normally,moving our weight upward makes our prediction move upward. However, if our input is negative, then all of a suddent our weight changes directions. When our input is negative, then moving our weight uo makes the prediction go down. it is reversed. How do we address this? Well, multiplying our 'pure error' by our input will reverse the sign of our direction_and_amount in the event that our input is negative. This is 'negative reversal',ensuring that our weights moves in the correct direction,evn if the input is negative.\n",
    "\n",
    "What is 'scaling'?\n",
    "--- Scaling is the second effect on our 'pure error' casued by multiplying it by our input. Logically, it means that if our input was big, our weight update should also be big. This is more of a 'side effect' as it can often go out of control. Later, we will use alpha to address when this scaling goes out of control.\n",
    "\n"
   ]
  }
 ],
 "metadata": {
  "kernelspec": {
   "display_name": "Python [conda root]",
   "language": "python",
   "name": "conda-root-py"
  },
  "language_info": {
   "codemirror_mode": {
    "name": "ipython",
    "version": 2
   },
   "file_extension": ".py",
   "mimetype": "text/x-python",
   "name": "python",
   "nbconvert_exporter": "python",
   "pygments_lexer": "ipython2",
   "version": "2.7.13"
  }
 },
 "nbformat": 4,
 "nbformat_minor": 2
}
