{
 "cells": [
  {
   "cell_type": "code",
   "execution_count": 14,
   "metadata": {},
   "outputs": [
    {
     "name": "stdout",
     "output_type": "stream",
     "text": [
      "Error: 0.64    weight: 0.88    weight_delta: -0.88    Prediction: 0.0\n",
      "Error: 0.028224    weight: 0.6952    weight_delta: 0.1848    Prediction: 0.968\n",
      "Error: 0.0012446784    weight: 0.734008    weight_delta: -0.038808    Prediction: 0.76472\n",
      "Error: 5.489031744e-05    weight: 0.72585832    weight_delta: 0.00814968    Prediction: 0.8074088\n"
     ]
    }
   ],
   "source": [
    "# Train the model\n",
    "\n",
    "weight=0.0\n",
    "goal_pred=0.8\n",
    "inputs=1.1\n",
    "\n",
    "for iteration in range(4):\n",
    "    pred=inputs*weight\n",
    "    error=(pred-goal_pred)**2\n",
    "    delta=pred-goal_pred\n",
    "    weight_delta=delta*inputs\n",
    "    \n",
    "    weight-=weight_delta\n",
    "    \n",
    "    print 'Error: '+str(error)+'    weight: '+str(weight)+'    weight_delta: '+str(weight_delta)+ '    Prediction: '+str(pred)"
   ]
  },
  {
   "cell_type": "code",
   "execution_count": null,
   "metadata": {
    "collapsed": true
   },
   "outputs": [],
   "source": []
  }
 ],
 "metadata": {
  "kernelspec": {
   "display_name": "Python [conda root]",
   "language": "python",
   "name": "conda-root-py"
  },
  "language_info": {
   "codemirror_mode": {
    "name": "ipython",
    "version": 2
   },
   "file_extension": ".py",
   "mimetype": "text/x-python",
   "name": "python",
   "nbconvert_exporter": "python",
   "pygments_lexer": "ipython2",
   "version": "2.7.13"
  }
 },
 "nbformat": 4,
 "nbformat_minor": 2
}
