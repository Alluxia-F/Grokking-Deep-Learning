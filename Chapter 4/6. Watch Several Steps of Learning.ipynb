{
 "cells": [
  {
   "cell_type": "code",
   "execution_count": 4,
   "metadata": {},
   "outputs": [
    {
     "name": "stdout",
     "output_type": "stream",
     "text": [
      "Error: 0.64    Prediction0.0\n",
      "Error: 0.028224    Prediction0.968\n",
      "Error: 0.0012446784    Prediction0.76472\n",
      "Error: 5.489031744e-05    Prediction0.8074088\n"
     ]
    }
   ],
   "source": [
    "# Train the model\n",
    "\n",
    "weight=0.0\n",
    "goal_pred=0.8\n",
    "inputs=1.1\n",
    "\n",
    "for iteration in range(4):\n",
    "    pred=inputs*weight\n",
    "    error=(pred-goal_pred)**2\n",
    "    delta=pred-goal_pred\n",
    "    weight_delta=delta*inputs\n",
    "    \n",
    "    weight-=weight_delta\n",
    "    \n",
    "    print 'Error: '+str(error)+'    Prediction'+str(pred)"
   ]
  },
  {
   "cell_type": "code",
   "execution_count": null,
   "metadata": {
    "collapsed": true
   },
   "outputs": [],
   "source": []
  }
 ],
 "metadata": {
  "kernelspec": {
   "display_name": "Python [conda root]",
   "language": "python",
   "name": "conda-root-py"
  },
  "language_info": {
   "codemirror_mode": {
    "name": "ipython",
    "version": 2
   },
   "file_extension": ".py",
   "mimetype": "text/x-python",
   "name": "python",
   "nbconvert_exporter": "python",
   "pygments_lexer": "ipython2",
   "version": "2.7.13"
  }
 },
 "nbformat": 4,
 "nbformat_minor": 2
}
