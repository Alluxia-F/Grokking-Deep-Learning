{
 "cells": [
  {
   "cell_type": "code",
   "execution_count": 8,
   "metadata": {
    "collapsed": true
   },
   "outputs": [],
   "source": [
    "# Hot and Cold Learning\n",
    "\n",
    "%config IPCompleter.greedy=True\n",
    "# Step 1: An Empty Network\n",
    "weight=0.1\n",
    "lr=0.01\n",
    "\n",
    "def nerual_network(inputs,weight):\n",
    "    prediction=inputs*weight\n",
    "    return prediction"
   ]
  },
  {
   "cell_type": "code",
   "execution_count": 9,
   "metadata": {},
   "outputs": [
    {
     "name": "stdout",
     "output_type": "stream",
     "text": [
      "0.0225\n"
     ]
    }
   ],
   "source": [
    "# Step 2: Predict, Making a prediction and evaluating error\n",
    "\n",
    "number_of_toes=[8.5]\n",
    "win_or_lose_binary=[1]\n",
    "\n",
    "inputs=number_of_toes[0]\n",
    "true=win_or_lose_binary[0]\n",
    "\n",
    "pred=nerual_network(inputs,weight)\n",
    "error=(pred-true)**2\n",
    "\n",
    "print error"
   ]
  },
  {
   "cell_type": "code",
   "execution_count": 12,
   "metadata": {},
   "outputs": [
    {
     "name": "stdout",
     "output_type": "stream",
     "text": [
      "0.004225\n"
     ]
    }
   ],
   "source": [
    "# Step 3: Making a prediction with a higher weight and evaluating error\n",
    "p_up=nerual_network(inputs,weight+lr)\n",
    "e_up=(p_up-true)**2\n",
    "print e_up"
   ]
  },
  {
   "cell_type": "code",
   "execution_count": 13,
   "metadata": {},
   "outputs": [
    {
     "name": "stdout",
     "output_type": "stream",
     "text": [
      "0.055225\n"
     ]
    }
   ],
   "source": [
    "# Step 4: Compare, making a prediction with a lower weight and eveluate error\n",
    "p_dn=nerual_network(inputs,weight-lr)\n",
    "e_dn=(p_dn-true)**2\n",
    "print e_dn"
   ]
  },
  {
   "cell_type": "code",
   "execution_count": 16,
   "metadata": {},
   "outputs": [
    {
     "name": "stdout",
     "output_type": "stream",
     "text": [
      "0.11\n"
     ]
    }
   ],
   "source": [
    "# Step 5: Compare + Learn,comparing our errors and setting our new weight\n",
    "\n",
    "if(error>e_dn or error>e_up):\n",
    "    if(e_dn<e_up):\n",
    "        weight-=lr\n",
    "    if(e_up<e_dn):\n",
    "        weight+=lr\n",
    "print weight     "
   ]
  },
  {
   "cell_type": "code",
   "execution_count": null,
   "metadata": {
    "collapsed": true
   },
   "outputs": [],
   "source": []
  }
 ],
 "metadata": {
  "kernelspec": {
   "display_name": "Python [conda root]",
   "language": "python",
   "name": "conda-root-py"
  },
  "language_info": {
   "codemirror_mode": {
    "name": "ipython",
    "version": 2
   },
   "file_extension": ".py",
   "mimetype": "text/x-python",
   "name": "python",
   "nbconvert_exporter": "python",
   "pygments_lexer": "ipython2",
   "version": "2.7.13"
  }
 },
 "nbformat": 4,
 "nbformat_minor": 2
}
