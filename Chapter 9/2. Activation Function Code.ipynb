{
 "cells": [
  {
   "cell_type": "code",
   "execution_count": 1,
   "metadata": {
    "collapsed": true
   },
   "outputs": [],
   "source": [
    "import numpy as np\n",
    "import sys\n",
    "np.random.seed(1)"
   ]
  },
  {
   "cell_type": "code",
   "execution_count": 2,
   "metadata": {
    "collapsed": true
   },
   "outputs": [],
   "source": [
    "def tanh(x):\n",
    "    return np.tanh(x)\n",
    "\n",
    "def tanh2deriv(output):\n",
    "    return 1-(output**2)\n",
    "\n",
    "def softmax(x):\n",
    "    temp=np.exp(x)\n",
    "    return temp/np.sum(temp,axis=1,keepdims=True)"
   ]
  },
  {
   "cell_type": "code",
   "execution_count": null,
   "metadata": {
    "collapsed": true
   },
   "outputs": [],
   "source": [
    "alpha,iteration,hidden_size=(2,300,100)\n",
    "pixel_per_image,num_labels=(784,100)\n",
    "batch_size=100\n",
    "\n",
    "weights_0_1=0.02*np.random.random((pixels_per_image,hidden_size))-0.01\n",
    "weights_1_2=0.2*np.random.random((hidden_size,num_lables))-0.1"
   ]
  },
  {
   "cell_type": "code",
   "execution_count": null,
   "metadata": {
    "collapsed": true
   },
   "outputs": [],
   "source": [
    "for j in xrange(iterations):\n",
    "    correct_cnt=0\n",
    "    for i in xrange(len(images)/batch_size):\n",
    "        batch_start,batch_end=((i*batch_size),((i+1)*batch_size))\n",
    "        layer_0=images[batch_start:batch_end]\n",
    "        layer_1=tanh(np.dot(layer_0,weights_0_1))\n",
    "        dropout_mask=np.random.randint(2,size=layer_1.shape)\n",
    "        layer_1*=dropout_masl*2\n",
    "        layer_2=softmax(np.dot(layer_1,weights_1_1))\n",
    "        \n",
    "        for k in xrange(batch_size):\n",
    "            correct_cnt+=int(np.argmax(layer_2[k:k+1])==\\\n",
    "                            np.argmax(labels[batch_start+k:batch_start+K+1]))\n",
    "            layer_2_delta=(labels[batch_start:batch_end]-layer_2)/(batch_size*layer_2.shape[0])\n",
    "            layer_1_detal=layer_2_delta.dot(weights_1_2.T)*tanh2deriv(layer_1)\n",
    "            layer_1_delta*=dropout_mask\n",
    "            \n",
    "            weights_1_2+=alpha*layer_1.T.dot(layer_2_delta)\n",
    "            weights_0_1+=alpha*layer_0.T.dot(layer_1_delta)\n",
    "            \n",
    "            test_correct_cnt=0\n",
    "            \n",
    "            for i in xrange(len(test_images)):\n",
    "                layer_0=test_images[i:i+1]\n",
    "                layer_1=relu(np.dot(layer_0,weights_0_1))\n",
    "                layer_2=np.dot(layer_1,weights_1_2)\n",
    "                \n",
    "                test_correct_cnt+=int(np.argmax(layer_2)==np.argmax(test_labels[i:i+1]))\n",
    "            \n",
    "            if(j%10==0):\n",
    "                sys.stdout.write('\\n'+\\\n",
    "                                'I:'+str(j)+\\\n",
    "                                'Test-Acc:'+str(test_correct_cnt/float(len(test_images)))+\\\n",
    "                                'Train-Acc:'+str(correct_cnt/float((len(images)))))\n",
    "            \n",
    "            \n",
    "            \n",
    "        \n",
    "    "
   ]
  }
 ],
 "metadata": {
  "kernelspec": {
   "display_name": "Python [conda root]",
   "language": "python",
   "name": "conda-root-py"
  },
  "language_info": {
   "codemirror_mode": {
    "name": "ipython",
    "version": 2
   },
   "file_extension": ".py",
   "mimetype": "text/x-python",
   "name": "python",
   "nbconvert_exporter": "python",
   "pygments_lexer": "ipython2",
   "version": "2.7.13"
  }
 },
 "nbformat": 4,
 "nbformat_minor": 2
}
