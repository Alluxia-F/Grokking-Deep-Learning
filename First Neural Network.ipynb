{
 "cells": [
  {
   "cell_type": "code",
   "execution_count": 41,
   "metadata": {
    "collapsed": true
   },
   "outputs": [],
   "source": [
    "import numpy as np"
   ]
  },
  {
   "cell_type": "code",
   "execution_count": 50,
   "metadata": {
    "collapsed": false
   },
   "outputs": [
    {
     "name": "stdout",
     "output_type": "stream",
     "text": [
      "[ 0.86   0.295  1.23 ]\n",
      "[ 0.2135  0.145   0.5065]\n"
     ]
    }
   ],
   "source": [
    "# Nerual Network with hidden layers\n",
    "\n",
    "ih_wgt=np.array([[0.1,0.2,-0.1],\n",
    "                 [-0.1,0.1,0.9],\n",
    "                 [0.1,0.4,0.1]]).T\n",
    "\n",
    "hp_wgt=np.array([[0.3,1.1,-0.3],\n",
    "                 [0.1,0.2,0.0],\n",
    "                 [0.0,1.3,0.1]]).T\n",
    "\n",
    "toes=np.array([8.5,9.5,9.9,9.0])\n",
    "wlrec=np.array([0.65,0.8,0.8,0.9])\n",
    "nfans=np.array([1.2,1.3,0.5,1.0])\n",
    "\n",
    "inputs=np.array([toes[0],wlrec[0],nfans[0]])\n",
    "\n",
    "weights=np.array([ih_wgt,hp_wgt])\n",
    "\n",
    "#def nerual_networks(inputs,weights):\n",
    "hid=np.dot(inputs,weights[0])\n",
    "print hid\n",
    "pred=np.dot(hid,weights[1])\n",
    "print pred\n",
    "    \n"
   ]
  },
  {
   "cell_type": "code",
   "execution_count": null,
   "metadata": {
    "collapsed": true
   },
   "outputs": [],
   "source": []
  }
 ],
 "metadata": {
  "kernelspec": {
   "display_name": "Python [conda root]",
   "language": "python",
   "name": "conda-root-py"
  },
  "language_info": {
   "codemirror_mode": {
    "name": "ipython",
    "version": 2
   },
   "file_extension": ".py",
   "mimetype": "text/x-python",
   "name": "python",
   "nbconvert_exporter": "python",
   "pygments_lexer": "ipython2",
   "version": "2.7.13"
  }
 },
 "nbformat": 4,
 "nbformat_minor": 2
}
