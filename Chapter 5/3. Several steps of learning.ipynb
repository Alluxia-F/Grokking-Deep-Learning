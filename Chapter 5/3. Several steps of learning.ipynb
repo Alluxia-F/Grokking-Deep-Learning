{
 "cells": [
  {
   "cell_type": "code",
   "execution_count": 49,
   "metadata": {
    "collapsed": true
   },
   "outputs": [],
   "source": [
    "# Inputs data\n",
    "toes=[8.5,9.5,9.9,9.0]\n",
    "wlrec=[0.65,0.8,0.8,0.9]\n",
    "nfans=[1.2,1.3,0.5,1.0]\n",
    "\n",
    "win_or_lose_binary=[1,1,0,1]\n",
    "true=win_or_lose_binary[0]\n",
    "\n",
    "inputs=[toes[0],wlrec[0],nfans[0]]\n",
    "weights=[0.1,0.2,-0.1]\n",
    "alpha=0.01"
   ]
  },
  {
   "cell_type": "code",
   "execution_count": 50,
   "metadata": {
    "collapsed": true
   },
   "outputs": [],
   "source": [
    "# An empty nerual networks\n",
    "\n",
    "def nerual_network(inputs,weights):\n",
    "    output=0\n",
    "    for i,v in enumerate(inputs):\n",
    "        output+=v*weights[i]    \n",
    "    return output"
   ]
  },
  {
   "cell_type": "code",
   "execution_count": 51,
   "metadata": {
    "collapsed": true
   },
   "outputs": [],
   "source": [
    "# Weights update\n",
    "import numpy as np\n",
    "def ele_mul(inputs,delta):\n",
    "    inputs=np.array(inputs)\n",
    "    out=inputs.dot(delta)\n",
    "    return out\n",
    "        "
   ]
  },
  {
   "cell_type": "code",
   "execution_count": 52,
   "metadata": {},
   "outputs": [
    {
     "name": "stdout",
     "output_type": "stream",
     "text": [
      "Iteration: 1\n",
      "Pred: 0.86\n",
      "Error: 0.0196\n",
      "Delta: -0.14\n",
      "Weights: [0.1, 0.2, -0.1]\n",
      "weight_deltas: [-1.19  -0.091 -0.168]\n",
      "\n",
      "Iteration: 2\n",
      "Pred: 0.9637575\n",
      "Error: 0.00131351880625\n",
      "Delta: -0.0362425\n",
      "Weights: [0.1119, 0.20091000000000001, -0.098320000000000005]\n",
      "weight_deltas: [-0.30806125 -0.02355763 -0.043491  ]\n",
      "\n",
      "Iteration: 3\n",
      "Pred: 0.990617722813\n",
      "Error: 8.80271252231e-05\n",
      "Delta: -0.0093822771875\n",
      "Weights: [0.11498061250000001, 0.20114557625000001, -0.097885090000000008]\n",
      "weight_deltas: [-0.07974936 -0.00609848 -0.01125873]\n",
      "\n"
     ]
    }
   ],
   "source": [
    "# Train the model\n",
    " \n",
    "for iteration in range(3):\n",
    "    pred=nerual_network(inputs,weights)\n",
    "    error=(pred-true)**2\n",
    "    delta=pred-true\n",
    "    weight_deltas=ele_mul(inputs,delta)\n",
    "    \n",
    "    print 'Iteration: '+str(iteration+1)\n",
    "    print 'Pred: '+str(pred)\n",
    "    print 'Error: '+str(error)\n",
    "    print 'Delta: '+str(delta)\n",
    "    print 'Weights: '+str(weights)\n",
    "    print 'weight_deltas: '+str(weight_deltas)\n",
    "    print\n",
    "    \n",
    "    for i in range(len(weights)):\n",
    "        weights[i]-=alpha*weight_deltas[i]"
   ]
  },
  {
   "cell_type": "code",
   "execution_count": null,
   "metadata": {
    "collapsed": true
   },
   "outputs": [],
   "source": []
  }
 ],
 "metadata": {
  "kernelspec": {
   "display_name": "Python [conda root]",
   "language": "python",
   "name": "conda-root-py"
  },
  "language_info": {
   "codemirror_mode": {
    "name": "ipython",
    "version": 2
   },
   "file_extension": ".py",
   "mimetype": "text/x-python",
   "name": "python",
   "nbconvert_exporter": "python",
   "pygments_lexer": "ipython2",
   "version": "2.7.13"
  }
 },
 "nbformat": 4,
 "nbformat_minor": 2
}
