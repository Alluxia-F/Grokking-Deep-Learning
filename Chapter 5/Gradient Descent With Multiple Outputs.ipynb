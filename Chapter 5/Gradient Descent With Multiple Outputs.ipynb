{
 "cells": [
  {
   "cell_type": "code",
   "execution_count": 19,
   "metadata": {},
   "outputs": [],
   "source": [
    "# Create an empty network with multiple outputs\n",
    "\n",
    "import numpy as np\n",
    "weights=[0.3,0.2,0.9]\n",
    "\n",
    "def nerual_network(inputs,weights):\n",
    "    prediction=ele_mul(inputs,weights)\n",
    "    return prediction\n",
    "\n",
    "def ele_mul(inputs,weights):\n",
    "    output=inputs*np.array(weights)\n",
    "    return output\n"
   ]
  },
  {
   "cell_type": "code",
   "execution_count": 20,
   "metadata": {},
   "outputs": [
    {
     "name": "stdout",
     "output_type": "stream",
     "text": [
      "Prediction: [ 0.195  0.13   0.585]\n",
      "Error: [ 0.009025  0.7569    0.235225]\n",
      "Delta: [ 0.095 -0.87   0.485]\n",
      "weights_delta:[ 0.06175 -0.5655   0.31525]\n"
     ]
    }
   ],
   "source": [
    "# Predict: make a prediction adn calculate error and delta\n",
    "wlrec=[0.65,1.0,1.0,0.9]\n",
    "hurt=[0.1,0.0,0.0,0.1]\n",
    "win=[1,1,0,1]\n",
    "sad=[0.1,0,0.1,0.2]\n",
    "\n",
    "inputs=wlrec[0]\n",
    "true=[hurt[0],win[0],sad[0]]\n",
    "\n",
    "pred=nerual_network(inputs,weights)\n",
    "print 'Prediction: '+str(pred)\n",
    "error=(pred-true)**2\n",
    "print 'Error: '+str(error)\n",
    "delta=pred-true\n",
    "print 'Delta: '+str(delta)\n",
    "weights_delta=inputs*delta\n",
    "print 'weights_delta:'+str(weights_delta)\n",
    "\n",
    "\n",
    "\n"
   ]
  },
  {
   "cell_type": "markdown",
   "metadata": {},
   "source": [
    "# Update weights\n",
    "alpha=0.1\n",
    "weights-=alpha*weights_delta\n",
    "print 'Weights:'+str(weights)"
   ]
  },
  {
   "cell_type": "code",
   "execution_count": null,
   "metadata": {
    "collapsed": true
   },
   "outputs": [],
   "source": [
    "Note: There are so many mistakes on the diagram"
   ]
  }
 ],
 "metadata": {
  "kernelspec": {
   "display_name": "Python [conda root]",
   "language": "python",
   "name": "conda-root-py"
  },
  "language_info": {
   "codemirror_mode": {
    "name": "ipython",
    "version": 2
   },
   "file_extension": ".py",
   "mimetype": "text/x-python",
   "name": "python",
   "nbconvert_exporter": "python",
   "pygments_lexer": "ipython2",
   "version": "2.7.13"
  }
 },
 "nbformat": 4,
 "nbformat_minor": 2
}
