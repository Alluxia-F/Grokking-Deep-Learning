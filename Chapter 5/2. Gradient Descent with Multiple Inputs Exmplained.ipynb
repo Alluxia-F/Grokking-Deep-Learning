{
 "cells": [
  {
   "cell_type": "code",
   "execution_count": 17,
   "metadata": {
    "collapsed": true
   },
   "outputs": [],
   "source": [
    "# An empty nerual network\n",
    "def nerual_network(inputs,weight):\n",
    "    prediction=inputs*weight\n",
    "    return prediction\n"
   ]
  },
  {
   "cell_type": "code",
   "execution_count": 18,
   "metadata": {},
   "outputs": [
    {
     "name": "stdout",
     "output_type": "stream",
     "text": [
      "0.0225\n",
      "-0.15\n"
     ]
    }
   ],
   "source": [
    "# Inputs information\n",
    "\n",
    "weight=0.1\n",
    "number_of_toes=[8.5]\n",
    "win_or_lose_binary=[1]\n",
    "\n",
    "inputs=number_of_toes[0]\n",
    "true=win_or_lose_binary[0]\n",
    "\n",
    "pred=nerual_network(inputs,weight)\n",
    "\n",
    "error=(pred-true)**2\n",
    "delta=pred-true\n",
    "\n",
    "print error\n",
    "print delta"
   ]
  },
  {
   "cell_type": "code",
   "execution_count": 19,
   "metadata": {},
   "outputs": [
    {
     "name": "stdout",
     "output_type": "stream",
     "text": [
      "0.86\n",
      "0.0196\n",
      "-0.14\n"
     ]
    }
   ],
   "source": [
    "# Multi input: making a prediction and calculating error and delta\n",
    "toes=[8.5,9.5,9.9,9.0]\n",
    "wlrec=[0.65,0.8,0.8,0.9]\n",
    "nfans=[1.2,1.3,0.5,1.0]\n",
    "\n",
    "win_or_lose_binary=[1,1,0,1]\n",
    "true=win_or_lose_binary[0]\n",
    "inputs=[toes[0],wlrec[0],nfans[0]]\n",
    "weights=[0.1,0.2,-0.1]\n",
    "\n",
    "def ele_mut(inputs,weights):\n",
    "    sum=0\n",
    "    for i,v in enumerate(inputs):\n",
    "        sum+=v*weights[i]\n",
    "    return sum\n",
    "\n",
    "# Update nerual network\n",
    "\n",
    "def nerual_network(inputs,wegiths):\n",
    "    prediction=ele_mut(inputs,weights)\n",
    "    return prediction\n",
    "\n",
    "pred=nerual_network(inputs,weights)\n",
    "\n",
    "error=(pred-true)**2\n",
    "delta=pred-true\n",
    "\n",
    "print pred\n",
    "print error\n",
    "print delta"
   ]
  },
  {
   "cell_type": "markdown",
   "metadata": {},
   "source": [
    "Page 82: The delta on the diagram should be:-0.14"
   ]
  },
  {
   "cell_type": "code",
   "execution_count": 20,
   "metadata": {
    "collapsed": true
   },
   "outputs": [],
   "source": [
    "import numpy as np"
   ]
  },
  {
   "cell_type": "code",
   "execution_count": 21,
   "metadata": {},
   "outputs": [
    {
     "name": "stdout",
     "output_type": "stream",
     "text": [
      "[-1.19  -0.091 -0.168]\n"
     ]
    }
   ],
   "source": [
    "inputs=np.array(inputs)\n",
    "weight_delta=np.dot(delta,inputs)\n",
    "print weight_delta"
   ]
  },
  {
   "cell_type": "code",
   "execution_count": 22,
   "metadata": {},
   "outputs": [
    {
     "name": "stdout",
     "output_type": "stream",
     "text": [
      "[ 0.1119   0.10091  0.10168]\n"
     ]
    }
   ],
   "source": [
    "alpha=0.01\n",
    "\n",
    "weight-=weight_delta*alpha\n",
    "print weight"
   ]
  },
  {
   "cell_type": "code",
   "execution_count": null,
   "metadata": {
    "collapsed": true
   },
   "outputs": [],
   "source": []
  }
 ],
 "metadata": {
  "kernelspec": {
   "display_name": "Python [conda root]",
   "language": "python",
   "name": "conda-root-py"
  },
  "language_info": {
   "codemirror_mode": {
    "name": "ipython",
    "version": 2
   },
   "file_extension": ".py",
   "mimetype": "text/x-python",
   "name": "python",
   "nbconvert_exporter": "python",
   "pygments_lexer": "ipython2",
   "version": "2.7.13"
  }
 },
 "nbformat": 4,
 "nbformat_minor": 2
}
