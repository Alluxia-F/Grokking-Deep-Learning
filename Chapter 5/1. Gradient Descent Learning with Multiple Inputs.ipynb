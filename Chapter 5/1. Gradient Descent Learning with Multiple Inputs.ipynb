{
 "cells": [
  {
   "cell_type": "code",
   "execution_count": 44,
   "metadata": {
    "collapsed": true
   },
   "outputs": [],
   "source": [
    "# Step 1: An empty network with multiple inputs\n",
    "\n",
    "weights=[0.1,0.2,-0.1]\n",
    "\n",
    "def nerual_network(inputs,weight):\n",
    "    pred=w_sum(inputs,weight)\n",
    "    return pred\n",
    "\n",
    "def w_sum(inputs,weight):\n",
    "    sum=0\n",
    "    for i,v in enumerate(inputs):\n",
    "        sum+=inputs[i]*weight[i]\n",
    "    return sum\n",
    "\n",
    "        "
   ]
  },
  {
   "cell_type": "code",
   "execution_count": 45,
   "metadata": {},
   "outputs": [
    {
     "name": "stdout",
     "output_type": "stream",
     "text": [
      "Prediction: 0.86\n",
      "Error: 0.0196\n",
      "Delta: -0.14\n"
     ]
    }
   ],
   "source": [
    "# Step 2: Predict and Compare\n",
    "\n",
    "toes=[8.5,9.5,9.9,9.0]\n",
    "wlrec=[0.65,0.8,0.8,0.9]\n",
    "nfans=[1.2,1.3,0.5,1.0]\n",
    "\n",
    "win_or_lose_binary=[1,1,0,1]\n",
    "true=win_or_lose_binary[0]\n",
    "\n",
    "inputs=[toes[0],wlrec[0],nfans[0]]\n",
    "\n",
    "pred=nerual_network(inputs,weights)\n",
    "error=(pred-true)**2\n",
    "delta=pred-true\n",
    "\n",
    "print 'Prediction: '+str(pred)\n",
    "print 'Error: '+str(error)\n",
    "print 'Delta: '+str(delta)"
   ]
  },
  {
   "cell_type": "markdown",
   "metadata": {},
   "source": [
    "**** Note: Page 80, the correct wlrec should be: wlrec=[0.65,0.8,0.8,0.9]\n",
    "**** Page 82, delta should be: delta=pred-true=0.86-1=-0.14"
   ]
  },
  {
   "cell_type": "code",
   "execution_count": 46,
   "metadata": {},
   "outputs": [
    {
     "name": "stdout",
     "output_type": "stream",
     "text": [
      "[-1.19  -0.091 -0.168]\n"
     ]
    }
   ],
   "source": [
    "# Step 3:Learn: Calculating Each 'Weight Delta' and putting it on Each weight\n",
    "import numpy as np\n",
    "def ele_mul(delta,inputs):\n",
    "    inputs=np.array(inputs)\n",
    "    weight_delta=delta*inputs\n",
    "    return weight_delta\n",
    "\n",
    "weight_delta=ele_mul(delta,inputs)\n",
    "\n",
    "print weight_delta"
   ]
  },
  {
   "cell_type": "code",
   "execution_count": 47,
   "metadata": {},
   "outputs": [
    {
     "name": "stdout",
     "output_type": "stream",
     "text": [
      "0.1119\n",
      "0.20091\n",
      "-0.09832\n"
     ]
    }
   ],
   "source": [
    "# Step 4: UPdate the weights\n",
    "\n",
    "alpha=0.01\n",
    " \n",
    "for i in range(len(weights)):\n",
    "    weights[i]-=alpha*weight_delta[i]\n",
    "    print weights[i]"
   ]
  },
  {
   "cell_type": "code",
   "execution_count": null,
   "metadata": {
    "collapsed": true
   },
   "outputs": [],
   "source": []
  }
 ],
 "metadata": {
  "kernelspec": {
   "display_name": "Python [conda root]",
   "language": "python",
   "name": "conda-root-py"
  },
  "language_info": {
   "codemirror_mode": {
    "name": "ipython",
    "version": 2
   },
   "file_extension": ".py",
   "mimetype": "text/x-python",
   "name": "python",
   "nbconvert_exporter": "python",
   "pygments_lexer": "ipython2",
   "version": "2.7.13"
  }
 },
 "nbformat": 4,
 "nbformat_minor": 2
}
