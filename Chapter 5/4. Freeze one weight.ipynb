{
 "cells": [
  {
   "cell_type": "code",
   "execution_count": 37,
   "metadata": {
    "collapsed": true
   },
   "outputs": [],
   "source": [
    "# Inputs data \n",
    "toes=[8.5,9.5,9.9,9.0]\n",
    "wlrec=[0.65,0.8,0.8,0.9]\n",
    "nfans=[1.2,1.3,0.5,1.0]\n",
    "\n",
    "inputs=[toes[0],wlrec[0],nfans[0]]\n",
    "win_or_lose_binary=[1,1,0,1]\n",
    "true=win_or_lose_binary[0]\n",
    "weights=[0.1,0.2,-0.1]\n",
    "alpha=0.3\n"
   ]
  },
  {
   "cell_type": "code",
   "execution_count": 38,
   "metadata": {
    "collapsed": true
   },
   "outputs": [],
   "source": [
    "# Create an empty network\n",
    "\n",
    "def nerual_network(inputs,weights):\n",
    "    prediction=mul_ele(inputs,weights)\n",
    "    return prediction\n",
    "\n",
    "def mul_ele(inputs,weights):\n",
    "    output=0\n",
    "    for i,v in enumerate(inputs):\n",
    "        output+=inputs[i]*weights[i]\n",
    "    return output        "
   ]
  },
  {
   "cell_type": "code",
   "execution_count": 39,
   "metadata": {},
   "outputs": [
    {
     "name": "stdout",
     "output_type": "stream",
     "text": [
      "Iteration:1\n",
      "Prediction:0.86\n",
      "Error:0.0196\n",
      "Delta:-0.14\n",
      "Weights:[0.1, 0.2, -0.1]\n",
      "Weight_Delta:[ 0.    -0.091 -0.168]\n",
      "\n",
      "Iteration:2\n",
      "Prediction:0.938225\n",
      "Error:0.003816150625\n",
      "Delta:-0.061775\n",
      "Weights:[ 0.1     0.2273 -0.0496]\n",
      "Weight_Delta:[ 0.         -0.04015375 -0.07413   ]\n",
      "\n",
      "Iteration:3\n",
      "Prediction:0.97274178125\n",
      "Error:0.000743010489423\n",
      "Delta:-0.02725821875\n",
      "Weights:[ 0.1         0.23934612 -0.027361  ]\n",
      "Weight_Delta:[ 0.         -0.01771784 -0.03270986]\n",
      "\n"
     ]
    }
   ],
   "source": [
    "# Run the model\n",
    "import numpy as np\n",
    "for iteration in range(3):\n",
    "    pred=nerual_network(inputs,weights)\n",
    "    error=(pred-true)**2\n",
    "    delta=pred-true\n",
    "    weight_delta=delta*np.array(inputs)\n",
    "    weight_delta[0]=0\n",
    "    print 'Iteration:'+str(iteration+1)\n",
    "    print 'Prediction:'+str(pred)\n",
    "    print 'Error:'+str(error)\n",
    "    print 'Delta:'+str(delta)\n",
    "    print 'Weights:'+str(weights)\n",
    "    print 'Weight_Delta:'+str(weight_delta)\n",
    "    \n",
    "    weights-=alpha*weight_delta\n",
    "    print\n"
   ]
  },
  {
   "cell_type": "markdown",
   "metadata": {},
   "source": [
    "Page 89: read so many times of this page. Totally confused."
   ]
  }
 ],
 "metadata": {
  "kernelspec": {
   "display_name": "Python [conda root]",
   "language": "python",
   "name": "conda-root-py"
  },
  "language_info": {
   "codemirror_mode": {
    "name": "ipython",
    "version": 2
   },
   "file_extension": ".py",
   "mimetype": "text/x-python",
   "name": "python",
   "nbconvert_exporter": "python",
   "pygments_lexer": "ipython2",
   "version": "2.7.13"
  }
 },
 "nbformat": 4,
 "nbformat_minor": 2
}
